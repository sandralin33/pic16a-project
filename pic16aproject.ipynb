{
 "cells": [
  {
   "cell_type": "markdown",
   "id": "6657868e-f83b-47ac-a105-50a5b41a827b",
   "metadata": {},
   "source": [
    "# Stroke Prediction"
   ]
  },
  {
   "cell_type": "markdown",
   "id": "544fe674-a3a0-44df-8331-ada6ad04a39e",
   "metadata": {},
   "source": [
    "The goal of this project is to determine which features of an individual’s health data are highly predictive of whether the individual would get a stroke or not."
   ]
  },
  {
   "cell_type": "code",
   "execution_count": 1,
   "id": "923b13cf-494e-47b5-b1e6-1d114141b446",
   "metadata": {},
   "outputs": [],
   "source": [
    "# import custom class and function\n",
    "from project import DataPreparation, make_histogram"
   ]
  },
  {
   "cell_type": "markdown",
   "id": "38354884-32d4-4de6-803e-a8c226f939f7",
   "metadata": {
    "tags": []
   },
   "source": [
    "# Data Preparation (Part 1)"
   ]
  },
  {
   "cell_type": "markdown",
   "id": "076d40e8-b214-4de9-a57c-b5988f6ab56a",
   "metadata": {},
   "source": [
    "We'll be working with the Stroke Prediction dataset from Kaggle, which contains information on patients who had or didn't have a stroke."
   ]
  },
  {
   "cell_type": "markdown",
   "id": "e504cd3b-97ff-4d8e-9368-34a1057124df",
   "metadata": {
    "tags": []
   },
   "source": [
    "## Import Dataset"
   ]
  },
  {
   "cell_type": "markdown",
   "id": "c6dbfad4-c3e7-431d-b8b5-afadab94f3a0",
   "metadata": {},
   "source": [
    "First, we imported the dataset. We used a `try-except` block to check if it's a csv file."
   ]
  },
  {
   "cell_type": "code",
   "execution_count": 2,
   "id": "16b4d85e-d506-448b-b953-24f0d2b175ec",
   "metadata": {},
   "outputs": [],
   "source": [
    "import pandas as pd"
   ]
  },
  {
   "cell_type": "code",
   "execution_count": 3,
   "id": "35325d1d-163b-43c1-8534-791ec2576b31",
   "metadata": {},
   "outputs": [],
   "source": [
    "try:\n",
    "    df = pd.read_csv(\"healthcare-dataset-stroke-data.csv\") # read csv file, save it as a dataframe\n",
    "except csv.Error as error:\n",
    "    print(\"Not a csv file\") # if not a csv file, print error message"
   ]
  },
  {
   "cell_type": "markdown",
   "id": "f6cb982f-074f-4bbb-963d-18c938395f2b",
   "metadata": {},
   "source": [
    "We created an instance `healthcare` of the class `DataPreparation` to look at the data."
   ]
  },
  {
   "cell_type": "code",
   "execution_count": 4,
   "id": "0ba1ddde-df25-44c3-acca-6175bc69d5bd",
   "metadata": {},
   "outputs": [
    {
     "data": {
      "text/html": [
       "<div>\n",
       "<style scoped>\n",
       "    .dataframe tbody tr th:only-of-type {\n",
       "        vertical-align: middle;\n",
       "    }\n",
       "\n",
       "    .dataframe tbody tr th {\n",
       "        vertical-align: top;\n",
       "    }\n",
       "\n",
       "    .dataframe thead th {\n",
       "        text-align: right;\n",
       "    }\n",
       "</style>\n",
       "<table border=\"1\" class=\"dataframe\">\n",
       "  <thead>\n",
       "    <tr style=\"text-align: right;\">\n",
       "      <th></th>\n",
       "      <th>id</th>\n",
       "      <th>gender</th>\n",
       "      <th>age</th>\n",
       "      <th>hypertension</th>\n",
       "      <th>heart_disease</th>\n",
       "      <th>ever_married</th>\n",
       "      <th>work_type</th>\n",
       "      <th>Residence_type</th>\n",
       "      <th>avg_glucose_level</th>\n",
       "      <th>bmi</th>\n",
       "      <th>smoking_status</th>\n",
       "      <th>stroke</th>\n",
       "    </tr>\n",
       "  </thead>\n",
       "  <tbody>\n",
       "    <tr>\n",
       "      <th>0</th>\n",
       "      <td>9046</td>\n",
       "      <td>Male</td>\n",
       "      <td>67.0</td>\n",
       "      <td>0</td>\n",
       "      <td>1</td>\n",
       "      <td>Yes</td>\n",
       "      <td>Private</td>\n",
       "      <td>Urban</td>\n",
       "      <td>228.69</td>\n",
       "      <td>36.6</td>\n",
       "      <td>formerly smoked</td>\n",
       "      <td>1</td>\n",
       "    </tr>\n",
       "    <tr>\n",
       "      <th>1</th>\n",
       "      <td>51676</td>\n",
       "      <td>Female</td>\n",
       "      <td>61.0</td>\n",
       "      <td>0</td>\n",
       "      <td>0</td>\n",
       "      <td>Yes</td>\n",
       "      <td>Self-employed</td>\n",
       "      <td>Rural</td>\n",
       "      <td>202.21</td>\n",
       "      <td>NaN</td>\n",
       "      <td>never smoked</td>\n",
       "      <td>1</td>\n",
       "    </tr>\n",
       "    <tr>\n",
       "      <th>2</th>\n",
       "      <td>31112</td>\n",
       "      <td>Male</td>\n",
       "      <td>80.0</td>\n",
       "      <td>0</td>\n",
       "      <td>1</td>\n",
       "      <td>Yes</td>\n",
       "      <td>Private</td>\n",
       "      <td>Rural</td>\n",
       "      <td>105.92</td>\n",
       "      <td>32.5</td>\n",
       "      <td>never smoked</td>\n",
       "      <td>1</td>\n",
       "    </tr>\n",
       "    <tr>\n",
       "      <th>3</th>\n",
       "      <td>60182</td>\n",
       "      <td>Female</td>\n",
       "      <td>49.0</td>\n",
       "      <td>0</td>\n",
       "      <td>0</td>\n",
       "      <td>Yes</td>\n",
       "      <td>Private</td>\n",
       "      <td>Urban</td>\n",
       "      <td>171.23</td>\n",
       "      <td>34.4</td>\n",
       "      <td>smokes</td>\n",
       "      <td>1</td>\n",
       "    </tr>\n",
       "    <tr>\n",
       "      <th>4</th>\n",
       "      <td>1665</td>\n",
       "      <td>Female</td>\n",
       "      <td>79.0</td>\n",
       "      <td>1</td>\n",
       "      <td>0</td>\n",
       "      <td>Yes</td>\n",
       "      <td>Self-employed</td>\n",
       "      <td>Rural</td>\n",
       "      <td>174.12</td>\n",
       "      <td>24.0</td>\n",
       "      <td>never smoked</td>\n",
       "      <td>1</td>\n",
       "    </tr>\n",
       "  </tbody>\n",
       "</table>\n",
       "</div>"
      ],
      "text/plain": [
       "      id  gender   age  hypertension  heart_disease ever_married  \\\n",
       "0   9046    Male  67.0             0              1          Yes   \n",
       "1  51676  Female  61.0             0              0          Yes   \n",
       "2  31112    Male  80.0             0              1          Yes   \n",
       "3  60182  Female  49.0             0              0          Yes   \n",
       "4   1665  Female  79.0             1              0          Yes   \n",
       "\n",
       "       work_type Residence_type  avg_glucose_level   bmi   smoking_status  \\\n",
       "0        Private          Urban             228.69  36.6  formerly smoked   \n",
       "1  Self-employed          Rural             202.21   NaN     never smoked   \n",
       "2        Private          Rural             105.92  32.5     never smoked   \n",
       "3        Private          Urban             171.23  34.4           smokes   \n",
       "4  Self-employed          Rural             174.12  24.0     never smoked   \n",
       "\n",
       "   stroke  \n",
       "0       1  \n",
       "1       1  \n",
       "2       1  \n",
       "3       1  \n",
       "4       1  "
      ]
     },
     "execution_count": 4,
     "metadata": {},
     "output_type": "execute_result"
    }
   ],
   "source": [
    "# create an instance of the custom class\n",
    "healthcare = DataPreparation(df)\n",
    "healthcare.df.head()"
   ]
  },
  {
   "cell_type": "markdown",
   "id": "b6c36788-be0e-49fb-96d6-99f97b52c34c",
   "metadata": {},
   "source": [
    "## Clean Data"
   ]
  },
  {
   "cell_type": "markdown",
   "id": "afb5aba0-25de-46c8-97ab-16399a73a528",
   "metadata": {},
   "source": [
    "To prep our data for exploratory analysis, we called `__clean_df__()` from `DataPreparation` to convert all the qualitative features to binary values.\n",
    "\n",
    "We converted \"work_type\" to `is_employed`, \"Residence_type\" to `is_Rural`, and \"smoking_status\" to `has_smoked`. We dropped `id`, \"Other\" from `gender`, and all the NaN values."
   ]
  },
  {
   "cell_type": "code",
   "execution_count": 5,
   "id": "f23a6c72-2144-4864-bfe6-ce2d0df5ff6b",
   "metadata": {
    "tags": []
   },
   "outputs": [
    {
     "data": {
      "text/html": [
       "<div>\n",
       "<style scoped>\n",
       "    .dataframe tbody tr th:only-of-type {\n",
       "        vertical-align: middle;\n",
       "    }\n",
       "\n",
       "    .dataframe tbody tr th {\n",
       "        vertical-align: top;\n",
       "    }\n",
       "\n",
       "    .dataframe thead th {\n",
       "        text-align: right;\n",
       "    }\n",
       "</style>\n",
       "<table border=\"1\" class=\"dataframe\">\n",
       "  <thead>\n",
       "    <tr style=\"text-align: right;\">\n",
       "      <th></th>\n",
       "      <th>gender</th>\n",
       "      <th>age</th>\n",
       "      <th>hypertension</th>\n",
       "      <th>heart_disease</th>\n",
       "      <th>ever_married</th>\n",
       "      <th>is_employed</th>\n",
       "      <th>is_Rural</th>\n",
       "      <th>avg_glucose_level</th>\n",
       "      <th>bmi</th>\n",
       "      <th>has_smoked</th>\n",
       "      <th>stroke</th>\n",
       "    </tr>\n",
       "  </thead>\n",
       "  <tbody>\n",
       "    <tr>\n",
       "      <th>0</th>\n",
       "      <td>1</td>\n",
       "      <td>67.0</td>\n",
       "      <td>0</td>\n",
       "      <td>1</td>\n",
       "      <td>1</td>\n",
       "      <td>1.0</td>\n",
       "      <td>0</td>\n",
       "      <td>228.69</td>\n",
       "      <td>36.6</td>\n",
       "      <td>1.0</td>\n",
       "      <td>1</td>\n",
       "    </tr>\n",
       "    <tr>\n",
       "      <th>1</th>\n",
       "      <td>1</td>\n",
       "      <td>80.0</td>\n",
       "      <td>0</td>\n",
       "      <td>1</td>\n",
       "      <td>1</td>\n",
       "      <td>1.0</td>\n",
       "      <td>1</td>\n",
       "      <td>105.92</td>\n",
       "      <td>32.5</td>\n",
       "      <td>0.0</td>\n",
       "      <td>1</td>\n",
       "    </tr>\n",
       "    <tr>\n",
       "      <th>2</th>\n",
       "      <td>0</td>\n",
       "      <td>49.0</td>\n",
       "      <td>0</td>\n",
       "      <td>0</td>\n",
       "      <td>1</td>\n",
       "      <td>1.0</td>\n",
       "      <td>0</td>\n",
       "      <td>171.23</td>\n",
       "      <td>34.4</td>\n",
       "      <td>1.0</td>\n",
       "      <td>1</td>\n",
       "    </tr>\n",
       "    <tr>\n",
       "      <th>3</th>\n",
       "      <td>0</td>\n",
       "      <td>79.0</td>\n",
       "      <td>1</td>\n",
       "      <td>0</td>\n",
       "      <td>1</td>\n",
       "      <td>1.0</td>\n",
       "      <td>1</td>\n",
       "      <td>174.12</td>\n",
       "      <td>24.0</td>\n",
       "      <td>0.0</td>\n",
       "      <td>1</td>\n",
       "    </tr>\n",
       "    <tr>\n",
       "      <th>4</th>\n",
       "      <td>1</td>\n",
       "      <td>81.0</td>\n",
       "      <td>0</td>\n",
       "      <td>0</td>\n",
       "      <td>1</td>\n",
       "      <td>1.0</td>\n",
       "      <td>0</td>\n",
       "      <td>186.21</td>\n",
       "      <td>29.0</td>\n",
       "      <td>1.0</td>\n",
       "      <td>1</td>\n",
       "    </tr>\n",
       "  </tbody>\n",
       "</table>\n",
       "</div>"
      ],
      "text/plain": [
       "   gender   age  hypertension  heart_disease  ever_married  is_employed  \\\n",
       "0       1  67.0             0              1             1          1.0   \n",
       "1       1  80.0             0              1             1          1.0   \n",
       "2       0  49.0             0              0             1          1.0   \n",
       "3       0  79.0             1              0             1          1.0   \n",
       "4       1  81.0             0              0             1          1.0   \n",
       "\n",
       "   is_Rural  avg_glucose_level   bmi  has_smoked  stroke  \n",
       "0         0             228.69  36.6         1.0       1  \n",
       "1         1             105.92  32.5         0.0       1  \n",
       "2         0             171.23  34.4         1.0       1  \n",
       "3         1             174.12  24.0         0.0       1  \n",
       "4         0             186.21  29.0         1.0       1  "
      ]
     },
     "execution_count": 5,
     "metadata": {},
     "output_type": "execute_result"
    }
   ],
   "source": [
    "# clean the data by calling the 1st class function\n",
    "healthcare.clean_df()\n",
    "healthcare.df.head()"
   ]
  },
  {
   "cell_type": "markdown",
   "id": "5bc203b1-c693-4cb2-a5f5-8462c87a67f5",
   "metadata": {
    "tags": []
   },
   "source": [
    "# Data Visualization"
   ]
  },
  {
   "cell_type": "markdown",
   "id": "8870833e-7466-49db-846c-89abbaae027f",
   "metadata": {},
   "source": [
    "Before determining which features are the most relevant to predicting stroke, we made some hypotheses based on the simple graphic comparison between features and their according stroke cases."
   ]
  },
  {
   "cell_type": "code",
   "execution_count": 6,
   "id": "55acff9c-7de1-4a46-b017-b4ae75182f3e",
   "metadata": {},
   "outputs": [],
   "source": [
    "from matplotlib import pyplot as plt\n",
    "import seaborn as sns"
   ]
  },
  {
   "cell_type": "markdown",
   "id": "26587fd8-340c-4a05-b3c6-c574dc1f283c",
   "metadata": {
    "tags": []
   },
   "source": [
    "## Histograms"
   ]
  },
  {
   "cell_type": "markdown",
   "id": "9b6a355b-ec18-4c90-8f3e-86332a32d10a",
   "metadata": {},
   "source": [
    "The histograms show the quantitative features (`age`, `avg_glucose_level`, `bmi`) and the number of stroke and non-stroke cases."
   ]
  },
  {
   "cell_type": "code",
   "execution_count": 7,
   "id": "419729c0-cb8c-4cd1-9be1-05c9e3aa29bc",
   "metadata": {},
   "outputs": [
    {
     "data": {
      "image/png": "[encoded data removed]",
      "text/plain": [
       "<Figure size 1152x576 with 3 Axes>"
      ]
     },
     "metadata": {
      "needs_background": "light"
     },
     "output_type": "display_data"
    }
   ],
   "source": [
    "# call make_histogram() function\n",
    "f = [\"age\", \"avg_glucose_level\", \"bmi\"]\n",
    "make_histogram(healthcare.df, f)"
   ]
  },
  {
   "cell_type": "markdown",
   "id": "17536456-c485-401f-9630-6a328de165a9",
   "metadata": {},
   "source": [
    "1. The histograms of age and stroke and non-stroke cases show that there is a significant trend of people with higher age getting more stroke.\n",
    "2. The second histograms of average glucose level and its stroke and non-stroke cases show that there is a mild trend of people who had stroke having higher average glucose level.\n",
    "3. The third histograms of bmi and its stroke and non-stroke cases didn't show much significance between the feature and number of the cases."
   ]
  },
  {
   "cell_type": "markdown",
   "id": "874f93f2-21f7-4393-8d73-489c041d9e6d",
   "metadata": {
    "tags": []
   },
   "source": [
    "### Exception Handling"
   ]
  },
  {
   "cell_type": "markdown",
   "id": "0b0fa5a6-ce7a-43f6-b668-37509c5134d0",
   "metadata": {},
   "source": [
    "If there are more or less than 3 features, raise `ValueError`, since the histograms are supposed to represent 3 specific features.*"
   ]
  },
  {
   "cell_type": "code",
   "execution_count": 8,
   "id": "b0ef217f-b207-4afe-a4f8-dff106d6dbb2",
   "metadata": {},
   "outputs": [],
   "source": [
    "# f = [\"age\", \"bmi\"]\n",
    "# make_histogram(healthcare.df, f)"
   ]
  },
  {
   "cell_type": "markdown",
   "id": "eb6751ee-0f6e-4549-8907-647730c07460",
   "metadata": {},
   "source": [
    "If the features aren't quantitative, raise `TypeError`. The function will try to detect values over 2, and if there is no value over 2, it will print an error message explaining that the list contains qualitative features.*"
   ]
  },
  {
   "cell_type": "code",
   "execution_count": 9,
   "id": "4f04e8e6-b369-4830-8fcf-5dc13b1f7cca",
   "metadata": {},
   "outputs": [],
   "source": [
    "# f = [\"age\", \"bmi\", \"gender\"]\n",
    "# make_histogram(healthcare.df, f)"
   ]
  },
  {
   "cell_type": "markdown",
   "id": "2f7df407-5dc0-46a7-aae2-b2679ca36f92",
   "metadata": {},
   "source": [
    "*uncomment to test exception handling"
   ]
  },
  {
   "cell_type": "markdown",
   "id": "7b473e22-12c7-4a74-94b9-8bf93ddf11f7",
   "metadata": {
    "tags": []
   },
   "source": [
    "## Bargraphs"
   ]
  },
  {
   "cell_type": "markdown",
   "id": "58be20d5-b9f5-4d38-9f8e-7ff1103501a9",
   "metadata": {},
   "source": [
    "The bar graphs show the qualitative features (`gender`, `hypertension`, `heart_disease`, `ever_married`, `is_employed`, `is_Rural`, `has_smoked`). The left column shows stroke cases while the right column shows non-stroke cases."
   ]
  },
  {
   "cell_type": "code",
   "execution_count": 10,
   "id": "31e289a8-0a87-4f86-8d9e-8838ac572197",
   "metadata": {},
   "outputs": [],
   "source": [
    "# filter the data by stroke vs non-stroke cases\n",
    "stroke_true = healthcare.df[\"stroke\"] == 1\n",
    "stroke_false = healthcare.df[\"stroke\"] == 0"
   ]
  },
  {
   "cell_type": "code",
   "execution_count": 11,
   "id": "e19c642c-53d8-4e2f-b904-94b5b30a3d7d",
   "metadata": {},
   "outputs": [
    {
     "data": {
      "image/png": "[encoded data removed]",
      "text/plain": [
       "<Figure size 720x2160 with 14 Axes>"
      ]
     },
     "metadata": {
      "needs_background": "light"
     },
     "output_type": "display_data"
    }
   ],
   "source": [
    "# create bar graphs\n",
    "fig, axes = plt.subplots(7, 2, figsize = (10, 30))\n",
    "\n",
    "sns.countplot(ax=axes[0,0], data=healthcare.df[stroke_true], x='gender').set(title='stroke') # left column\n",
    "sns.countplot(ax=axes[0,1], data=healthcare.df[stroke_false], x='gender').set(title='no stroke') # right column\n",
    "sns.countplot(ax=axes[1,0], data=healthcare.df[stroke_true], x='hypertension')\n",
    "sns.countplot(ax=axes[1,1], data=healthcare.df[stroke_false], x='hypertension')\n",
    "sns.countplot(ax=axes[2,0], data=healthcare.df[stroke_true], x='heart_disease')\n",
    "sns.countplot(ax=axes[2,1], data=healthcare.df[stroke_false], x='heart_disease')\n",
    "sns.countplot(ax=axes[3,0], data=healthcare.df[stroke_true], x='ever_married')\n",
    "sns.countplot(ax=axes[3,1], data=healthcare.df[stroke_false], x='ever_married')\n",
    "sns.countplot(ax=axes[4,0], data=healthcare.df[stroke_true], x='is_employed')\n",
    "sns.countplot(ax=axes[4,1], data=healthcare.df[stroke_false], x='is_employed')\n",
    "sns.countplot(ax=axes[5,0], data=healthcare.df[stroke_true], x='is_Rural')\n",
    "sns.countplot(ax=axes[5,1], data=healthcare.df[stroke_false], x='is_Rural')\n",
    "sns.countplot(ax=axes[6,0], data=healthcare.df[stroke_true], x='has_smoked')\n",
    "sns.countplot(ax=axes[6,1], data=healthcare.df[stroke_false], x='has_smoked')\n",
    "\n",
    "plt.show()"
   ]
  },
  {
   "cell_type": "markdown",
   "id": "06902a53-c6fe-4084-8b04-37b77a8b0d0a",
   "metadata": {},
   "source": [
    "Based on the results, we hypothesize that the features most relevant to predicting stroke are `is_employed`, `hypertension`, and `has_smoked`. \n",
    "\n",
    "We were surprised to learn that for patients who had a stroke, **all** of them were employed. It's important to note, though, that most of the patients from the dataset are employed. Additionally, `has_smoked` doesn't seem to matter as much as we thought. But we can conclude that there are more patients who smoke compared to those who don't for stroke cases, and vice versa for non-stroke cases."
   ]
  },
  {
   "cell_type": "markdown",
   "id": "2640aaac-12ad-4ce2-9187-08cb18872be6",
   "metadata": {
    "tags": []
   },
   "source": [
    "# Data Preparation (Part 2)"
   ]
  },
  {
   "cell_type": "markdown",
   "id": "5cc0aa10-2884-409b-a4f0-c27bb4b3aa06",
   "metadata": {},
   "source": [
    "To prep our data for machine learning, we called `__clean_df_2__()` from `DataPreparation` to convert all the quantitative variables to binary values. \n",
    "\n",
    "We converted \"age\" to `is_Old`, \"avg_glucose_level\" to `has_high_glucose`, and \"bmi\" to `is_Overweight`."
   ]
  },
  {
   "cell_type": "code",
   "execution_count": 12,
   "id": "4d986761-d638-43ab-ad51-235afed55a48",
   "metadata": {
    "tags": []
   },
   "outputs": [
    {
     "data": {
      "text/html": [
       "<div>\n",
       "<style scoped>\n",
       "    .dataframe tbody tr th:only-of-type {\n",
       "        vertical-align: middle;\n",
       "    }\n",
       "\n",
       "    .dataframe tbody tr th {\n",
       "        vertical-align: top;\n",
       "    }\n",
       "\n",
       "    .dataframe thead th {\n",
       "        text-align: right;\n",
       "    }\n",
       "</style>\n",
       "<table border=\"1\" class=\"dataframe\">\n",
       "  <thead>\n",
       "    <tr style=\"text-align: right;\">\n",
       "      <th></th>\n",
       "      <th>gender</th>\n",
       "      <th>has_high_glucose</th>\n",
       "      <th>is_Overweight</th>\n",
       "      <th>is_Old</th>\n",
       "      <th>hypertension</th>\n",
       "      <th>heart_disease</th>\n",
       "      <th>ever_married</th>\n",
       "      <th>is_employed</th>\n",
       "      <th>is_Rural</th>\n",
       "      <th>has_smoked</th>\n",
       "      <th>stroke</th>\n",
       "    </tr>\n",
       "  </thead>\n",
       "  <tbody>\n",
       "    <tr>\n",
       "      <th>0</th>\n",
       "      <td>1</td>\n",
       "      <td>1</td>\n",
       "      <td>1</td>\n",
       "      <td>1</td>\n",
       "      <td>0</td>\n",
       "      <td>1</td>\n",
       "      <td>1</td>\n",
       "      <td>1.0</td>\n",
       "      <td>0</td>\n",
       "      <td>1.0</td>\n",
       "      <td>1</td>\n",
       "    </tr>\n",
       "    <tr>\n",
       "      <th>1</th>\n",
       "      <td>1</td>\n",
       "      <td>0</td>\n",
       "      <td>1</td>\n",
       "      <td>1</td>\n",
       "      <td>0</td>\n",
       "      <td>1</td>\n",
       "      <td>1</td>\n",
       "      <td>1.0</td>\n",
       "      <td>1</td>\n",
       "      <td>0.0</td>\n",
       "      <td>1</td>\n",
       "    </tr>\n",
       "    <tr>\n",
       "      <th>2</th>\n",
       "      <td>0</td>\n",
       "      <td>1</td>\n",
       "      <td>1</td>\n",
       "      <td>0</td>\n",
       "      <td>0</td>\n",
       "      <td>0</td>\n",
       "      <td>1</td>\n",
       "      <td>1.0</td>\n",
       "      <td>0</td>\n",
       "      <td>1.0</td>\n",
       "      <td>1</td>\n",
       "    </tr>\n",
       "    <tr>\n",
       "      <th>3</th>\n",
       "      <td>0</td>\n",
       "      <td>1</td>\n",
       "      <td>0</td>\n",
       "      <td>1</td>\n",
       "      <td>1</td>\n",
       "      <td>0</td>\n",
       "      <td>1</td>\n",
       "      <td>1.0</td>\n",
       "      <td>1</td>\n",
       "      <td>0.0</td>\n",
       "      <td>1</td>\n",
       "    </tr>\n",
       "    <tr>\n",
       "      <th>4</th>\n",
       "      <td>1</td>\n",
       "      <td>1</td>\n",
       "      <td>0</td>\n",
       "      <td>1</td>\n",
       "      <td>0</td>\n",
       "      <td>0</td>\n",
       "      <td>1</td>\n",
       "      <td>1.0</td>\n",
       "      <td>0</td>\n",
       "      <td>1.0</td>\n",
       "      <td>1</td>\n",
       "    </tr>\n",
       "  </tbody>\n",
       "</table>\n",
       "</div>"
      ],
      "text/plain": [
       "   gender has_high_glucose is_Overweight is_Old  hypertension  heart_disease  \\\n",
       "0       1                1             1      1             0              1   \n",
       "1       1                0             1      1             0              1   \n",
       "2       0                1             1      0             0              0   \n",
       "3       0                1             0      1             1              0   \n",
       "4       1                1             0      1             0              0   \n",
       "\n",
       "   ever_married  is_employed  is_Rural  has_smoked  stroke  \n",
       "0             1          1.0         0         1.0       1  \n",
       "1             1          1.0         1         0.0       1  \n",
       "2             1          1.0         0         1.0       1  \n",
       "3             1          1.0         1         0.0       1  \n",
       "4             1          1.0         0         1.0       1  "
      ]
     },
     "execution_count": 12,
     "metadata": {},
     "output_type": "execute_result"
    }
   ],
   "source": [
    "# call 2nd class function\n",
    "healthcare.clean_df_2()\n",
    "healthcare.df.head()"
   ]
  },
  {
   "cell_type": "markdown",
   "id": "5c2fa7e9-ed9b-46f8-aa4b-07b9495dcacf",
   "metadata": {
    "tags": []
   },
   "source": [
    "# Comparing Models"
   ]
  },
  {
   "cell_type": "markdown",
   "id": "0a153b9f-fa53-4912-ae70-38dbb56291e6",
   "metadata": {
    "tags": []
   },
   "source": [
    "We wanted to train two models and compare which of the two is better for predicting stroke."
   ]
  },
  {
   "cell_type": "markdown",
   "id": "62a18d70-f08a-4967-b528-ee6342f31cf6",
   "metadata": {},
   "source": [
    "To prep for that, we called `__train_test_split__()` from `DataPreparation` to split our data into train and test sets. That way, we can see how well each model performs on unseen data."
   ]
  },
  {
   "cell_type": "code",
   "execution_count": 13,
   "id": "2516530b-f7fe-45db-9192-95ad76056db8",
   "metadata": {},
   "outputs": [],
   "source": [
    "# call 3rd class function\n",
    "X, y, X_train, X_test, y_train, y_test = healthcare.train_test_split()"
   ]
  },
  {
   "cell_type": "markdown",
   "id": "62da8f27-784f-4aa1-984e-6d0c3ca82064",
   "metadata": {
    "tags": []
   },
   "source": [
    "## Model 1"
   ]
  },
  {
   "cell_type": "markdown",
   "id": "3f4b1ade-fee1-44f2-97b6-c6acf6c1dd1d",
   "metadata": {},
   "source": [
    "We fitted a Logistic Regression model on the training data and tested the model's performance on the testing data."
   ]
  },
  {
   "cell_type": "code",
   "execution_count": 14,
   "id": "abca418f-e63f-4ed9-8215-d7af99bea5c8",
   "metadata": {},
   "outputs": [],
   "source": [
    "from sklearn.linear_model import LogisticRegression\n",
    "from sklearn.metrics import classification_report, confusion_matrix\n",
    "from sklearn.model_selection import cross_val_score"
   ]
  },
  {
   "cell_type": "code",
   "execution_count": 15,
   "id": "17bed052-2104-43dd-9f3e-993c1be105e2",
   "metadata": {},
   "outputs": [
    {
     "data": {
      "text/plain": [
       "LogisticRegression(solver='liblinear')"
      ]
     },
     "execution_count": 15,
     "metadata": {},
     "output_type": "execute_result"
    }
   ],
   "source": [
    "# train logistic regression model\n",
    "m = LogisticRegression(solver=\"liblinear\")\n",
    "m.fit(X_train, y_train)"
   ]
  },
  {
   "cell_type": "markdown",
   "id": "5ee7ff20-8bbd-4f10-80f3-8b8eca6ec957",
   "metadata": {},
   "source": [
    "Next, we computed the classification error for the training and test data to gauge the performance of the logistic regression model."
   ]
  },
  {
   "cell_type": "code",
   "execution_count": 16,
   "id": "967dc1b0-75ce-4cc6-af9a-6ec8e609d3bf",
   "metadata": {},
   "outputs": [
    {
     "name": "stdout",
     "output_type": "stream",
     "text": [
      "train score:  0.9422812643151626\n",
      "test score:  0.9574175824175825\n"
     ]
    }
   ],
   "source": [
    "train_score = m.score(X_train, y_train)\n",
    "test_score = m.score(X_test, y_test)\n",
    "print(\"train score: \", train_score)\n",
    "print(\"test score: \", test_score)"
   ]
  },
  {
   "cell_type": "markdown",
   "id": "78406cd0-2e0d-49fd-b026-e07751eb18a2",
   "metadata": {},
   "source": [
    "The train and test score are both high and close to 1, so our model is pretty good. However, these scores may not be accurate as they are dependent on the train-test split (random process). To account for the randomness, let's do a 3-fold cross-validation."
   ]
  },
  {
   "cell_type": "code",
   "execution_count": 17,
   "id": "a7494265-edf8-429b-a429-c5af51c0168a",
   "metadata": {},
   "outputs": [
    {
     "name": "stdout",
     "output_type": "stream",
     "text": [
      "0.9427391155382902\n"
     ]
    }
   ],
   "source": [
    "# calculate 3-fold cross validation score\n",
    "cv_score = cross_val_score(m, X_train, y_train, cv=3).mean()\n",
    "print(cv_score)"
   ]
  },
  {
   "cell_type": "markdown",
   "id": "a9cb81d4-265d-49d8-810f-1e76df85e1cb",
   "metadata": {},
   "source": [
    "The 3-fold cross validation score is pretty high (nearly the same as the test score for one test-train split calculated previously) so we can conclude logistic regression is a good model."
   ]
  },
  {
   "cell_type": "markdown",
   "id": "09e4aae9-0eb6-4883-9cb8-89cc043af2e9",
   "metadata": {
    "jp-MarkdownHeadingCollapsed": true,
    "tags": []
   },
   "source": [
    "## Model 2"
   ]
  },
  {
   "cell_type": "markdown",
   "id": "f8b1a4c6-0045-4005-b59a-c7b991715953",
   "metadata": {},
   "source": [
    "But is there a better model? Let's train a Decision Tree Classifier model and compute cross-validation scores for max depth of 1-30. This will help us determine the depth that will give us the best Decision Tree Classifier model."
   ]
  },
  {
   "cell_type": "code",
   "execution_count": 18,
   "id": "8f94d977-9de1-4446-9c21-ee7fd6a1cb4d",
   "metadata": {},
   "outputs": [],
   "source": [
    "from sklearn import tree\n",
    "import numpy as np"
   ]
  },
  {
   "cell_type": "code",
   "execution_count": 19,
   "id": "b6db7e5c-972f-44e2-9ca7-5cd5e28f13b7",
   "metadata": {},
   "outputs": [],
   "source": [
    "def fit_tree(X, y, d):\n",
    "    '''\n",
    "    Args:\n",
    "        X: training data\n",
    "        y: testing data\n",
    "        d: depth\n",
    "    Returns:\n",
    "        T: instance of decisiontree classifier\n",
    "    '''\n",
    "    T = tree.DecisionTreeClassifier(max_depth=d) # create an instance of decisiontree classifier\n",
    "    T.fit(X, y) # train the decisiontree classifier model\n",
    "    return T"
   ]
  },
  {
   "cell_type": "code",
   "execution_count": 20,
   "id": "5ca31016-83ba-4810-95bd-feeb09ff7719",
   "metadata": {
    "tags": []
   },
   "outputs": [
    {
     "data": {
      "image/png": "[encoded data removed]",
      "text/plain": [
       "<Figure size 720x576 with 1 Axes>"
      ]
     },
     "metadata": {
      "needs_background": "light"
     },
     "output_type": "display_data"
    },
    {
     "name": "stdout",
     "output_type": "stream",
     "text": [
      "best depth: 1\n",
      "highest CV score: 0.9422812400804147\n"
     ]
    }
   ],
   "source": [
    "# train data with decisiontree classifier\n",
    "fig, ax = plt.subplots(1, figsize= (10, 8))\n",
    "depths = range(1, 30)\n",
    "cv_scores = []\n",
    "\n",
    "T = tree.DecisionTreeClassifier(max_depth = 3)\n",
    "\n",
    "for d in depths:\n",
    "    T = fit_tree(X_train, y_train, d)\n",
    "    cv_score = cross_val_score(T, X_train, y_train, cv=3).mean() # compute 3-fold cv score\n",
    "    \n",
    "    cv_scores.append(cv_score)\n",
    "\n",
    "ax.scatter(depths, cv_scores, label='cv score')\n",
    "ax.set(xlabel=\"depth\", ylabel= 'score')\n",
    "plt.legend(fontsize=20)\n",
    "plt.show()\n",
    "\n",
    "min_arg = np.argmax(cv_scores)\n",
    "\n",
    "print(\"best depth:\", depths[min_arg])\n",
    "print(\"highest CV score:\", cv_scores[min_arg])"
   ]
  },
  {
   "cell_type": "markdown",
   "id": "a4160a58-037f-43aa-b892-8825fa3dcb8b",
   "metadata": {},
   "source": [
    "Logistic Regression and Decision Tree Classifier (of any depth 1-5) are both good models for our dataset. The cross validation scores for Decision Tree Classifier were nearly the same for all depths (from 1-30). However, models with depths 1-5 perform slightly better than those with higher depths. Although Logistic Regression and Decision Tree Classifier are equally good models (both have a cross validation score of about 0.95), we will use the Logistic Regression model to examine which features are most correlated with getting a stroke."
   ]
  },
  {
   "cell_type": "markdown",
   "id": "0790763a-a00c-45a4-8210-67b4deed5806",
   "metadata": {
    "tags": []
   },
   "source": [
    "# Logistic Regression"
   ]
  },
  {
   "cell_type": "markdown",
   "id": "d7e76143-5cca-4cfe-84f3-56ccb88761b2",
   "metadata": {},
   "source": [
    "Let's determine which features are the most relevant for predicting stroke using Logistic Regression."
   ]
  },
  {
   "cell_type": "markdown",
   "id": "f4f3fbaf-9218-4c5b-8e3f-75d0174d50d5",
   "metadata": {
    "tags": []
   },
   "source": [
    "## Correlation Coefficients"
   ]
  },
  {
   "cell_type": "markdown",
   "id": "656a66df-9f07-41e9-932c-f2fb64b22f5b",
   "metadata": {},
   "source": [
    "We stored the names of all the features in a list called `column_names`, which we'll iterate through for our graph. We also calculated the correlation coefficients between each feature and `stroke`."
   ]
  },
  {
   "cell_type": "code",
   "execution_count": 21,
   "id": "bb67acfe-8697-40fd-a039-01fcf3df3083",
   "metadata": {},
   "outputs": [
    {
     "data": {
      "text/plain": [
       "array([[-0.2040884 ,  0.69860935,  0.0903904 ,  1.39416878,  0.67182139,\n",
       "         0.64455977,  0.38724748, -0.85893631, -0.23151344,  0.10511982]])"
      ]
     },
     "execution_count": 21,
     "metadata": {},
     "output_type": "execute_result"
    }
   ],
   "source": [
    "# calculate correlation coefficients\n",
    "m.coef_"
   ]
  },
  {
   "cell_type": "code",
   "execution_count": 22,
   "id": "bd249498-2abd-47d4-820d-23a7230ca9f1",
   "metadata": {},
   "outputs": [
    {
     "data": {
      "text/plain": [
       "['gender',\n",
       " 'has_high_glucose',\n",
       " 'is_Overweight',\n",
       " 'is_Old',\n",
       " 'hypertension',\n",
       " 'heart_disease',\n",
       " 'ever_married',\n",
       " 'is_employed',\n",
       " 'is_Rural',\n",
       " 'has_smoked']"
      ]
     },
     "execution_count": 22,
     "metadata": {},
     "output_type": "execute_result"
    }
   ],
   "source": [
    "# create a list of all the features\n",
    "column_names = list(X.columns.values)\n",
    "column_names"
   ]
  },
  {
   "cell_type": "markdown",
   "id": "9924ef9e-1684-4057-84c8-40907e658a46",
   "metadata": {},
   "source": [
    "We created a graph that displays all the features and their corresponding correlation coefficients."
   ]
  },
  {
   "cell_type": "code",
   "execution_count": 23,
   "id": "0e1f70c5-b992-42b1-9009-6b01d7d87403",
   "metadata": {},
   "outputs": [
    {
     "data": {
      "image/png": "[encoded data removed]",
      "text/plain": [
       "<Figure size 648x504 with 1 Axes>"
      ]
     },
     "metadata": {
      "needs_background": "light"
     },
     "output_type": "display_data"
    }
   ],
   "source": [
    "plt.figure(figsize=(9,7))\n",
    "plt.barh(column_names, m.coef_[0][:], 0.3) # plot features and coefficients\n",
    "plt.title(\"Logistic Regression Model\")\n",
    "plt.xlabel(\"Coefficients\")\n",
    "plt.axvline(x=0, color='gray') # create line at 0 for x-axis\n",
    "plt.subplots_adjust(left=0.3) # adjust left edge of the plot\n",
    "\n",
    "plt.show()"
   ]
  },
  {
   "cell_type": "markdown",
   "id": "4b5f8058-0109-4cb1-b068-5f79df89d089",
   "metadata": {},
   "source": [
    "The logistic regression coefficient **β** changes in log odds. This means that increasing the feature by 1 unit multiplies the chances of the outcome's occurence by **eβ**, otherwise known as the odds ratio. (https://quantifyinghealth.com/interpret-logistic-regression-coefficients/)\n",
    "\n",
    "To understand this better, we calculated the odds ratio of every coefficient."
   ]
  },
  {
   "cell_type": "markdown",
   "id": "7de7644c-dcb8-4d70-85c5-96f8da09b3bf",
   "metadata": {
    "tags": []
   },
   "source": [
    "## Odds Ratio"
   ]
  },
  {
   "cell_type": "markdown",
   "id": "bc5b69db-a14f-4170-a84d-751fd65ad0ce",
   "metadata": {},
   "source": [
    "Since we're working with medical data, let's interpret the coefficients as odds ratios to associate features to stroke risk. The odds ratio is the ratio of the probabilities of two mutually exclusive outcomes. For example, the odds of smoking group getting a stroke vs the odds of non-smoking group getting a stroke."
   ]
  },
  {
   "cell_type": "code",
   "execution_count": 24,
   "id": "682138b5-9f06-4ca7-bf8c-ff34314d95ee",
   "metadata": {},
   "outputs": [],
   "source": [
    "import math"
   ]
  },
  {
   "cell_type": "code",
   "execution_count": 25,
   "id": "265d4a67-a6bc-42c7-85e3-3d9f83e8789b",
   "metadata": {},
   "outputs": [
    {
     "name": "stdout",
     "output_type": "stream",
     "text": [
      "odds ratio:  [0.81539028 2.01095422 1.09460153 4.03162201 1.95779999 1.90514815\n",
      " 1.47292097 0.42361244 0.79333203 1.11084371]\n"
     ]
    }
   ],
   "source": [
    "# create an empty list\n",
    "odds_ratio_L = []\n",
    "\n",
    "# compute odds ratio for each feature\n",
    "for i in m.coef_[0]:\n",
    "    odds_ratio = math.e**i\n",
    "    odds_ratio_L.append(odds_ratio) # add to list\n",
    "\n",
    "# save as numpy array\n",
    "odds_ratio_L = np.array(odds_ratio_L)\n",
    "print(\"odds ratio: \", odds_ratio_L)"
   ]
  },
  {
   "cell_type": "markdown",
   "id": "eaab67db",
   "metadata": {},
   "source": [
    "An odds ratio bigger than 1.5 indicates a moderately strong positive correlation. An odds ratio close to 1 means the feature has nearly no association with stroke outcome. And an odds ratio smaller than 0.5 (and positive) indicates a moderately strong negative association."
   ]
  },
  {
   "cell_type": "code",
   "execution_count": 26,
   "id": "a27daa8a-5091-4d19-b74f-76ccc0d3f9b1",
   "metadata": {},
   "outputs": [
    {
     "data": {
      "text/html": [
       "<div>\n",
       "<style scoped>\n",
       "    .dataframe tbody tr th:only-of-type {\n",
       "        vertical-align: middle;\n",
       "    }\n",
       "\n",
       "    .dataframe tbody tr th {\n",
       "        vertical-align: top;\n",
       "    }\n",
       "\n",
       "    .dataframe thead th {\n",
       "        text-align: right;\n",
       "    }\n",
       "</style>\n",
       "<table border=\"1\" class=\"dataframe\">\n",
       "  <thead>\n",
       "    <tr style=\"text-align: right;\">\n",
       "      <th></th>\n",
       "      <th>feature</th>\n",
       "      <th>correlation coefficient</th>\n",
       "      <th>odds ratio</th>\n",
       "    </tr>\n",
       "  </thead>\n",
       "  <tbody>\n",
       "    <tr>\n",
       "      <th>0</th>\n",
       "      <td>gender</td>\n",
       "      <td>-0.204088</td>\n",
       "      <td>0.815390</td>\n",
       "    </tr>\n",
       "    <tr>\n",
       "      <th>1</th>\n",
       "      <td>has_high_glucose</td>\n",
       "      <td>0.698609</td>\n",
       "      <td>2.010954</td>\n",
       "    </tr>\n",
       "    <tr>\n",
       "      <th>2</th>\n",
       "      <td>is_Overweight</td>\n",
       "      <td>0.090390</td>\n",
       "      <td>1.094602</td>\n",
       "    </tr>\n",
       "    <tr>\n",
       "      <th>3</th>\n",
       "      <td>is_Old</td>\n",
       "      <td>1.394169</td>\n",
       "      <td>4.031622</td>\n",
       "    </tr>\n",
       "    <tr>\n",
       "      <th>4</th>\n",
       "      <td>hypertension</td>\n",
       "      <td>0.671821</td>\n",
       "      <td>1.957800</td>\n",
       "    </tr>\n",
       "    <tr>\n",
       "      <th>5</th>\n",
       "      <td>heart_disease</td>\n",
       "      <td>0.644560</td>\n",
       "      <td>1.905148</td>\n",
       "    </tr>\n",
       "    <tr>\n",
       "      <th>6</th>\n",
       "      <td>ever_married</td>\n",
       "      <td>0.387247</td>\n",
       "      <td>1.472921</td>\n",
       "    </tr>\n",
       "    <tr>\n",
       "      <th>7</th>\n",
       "      <td>is_employed</td>\n",
       "      <td>-0.858936</td>\n",
       "      <td>0.423612</td>\n",
       "    </tr>\n",
       "    <tr>\n",
       "      <th>8</th>\n",
       "      <td>is_Rural</td>\n",
       "      <td>-0.231513</td>\n",
       "      <td>0.793332</td>\n",
       "    </tr>\n",
       "    <tr>\n",
       "      <th>9</th>\n",
       "      <td>has_smoked</td>\n",
       "      <td>0.105120</td>\n",
       "      <td>1.110844</td>\n",
       "    </tr>\n",
       "  </tbody>\n",
       "</table>\n",
       "</div>"
      ],
      "text/plain": [
       "            feature  correlation coefficient  odds ratio\n",
       "0            gender                -0.204088    0.815390\n",
       "1  has_high_glucose                 0.698609    2.010954\n",
       "2     is_Overweight                 0.090390    1.094602\n",
       "3            is_Old                 1.394169    4.031622\n",
       "4      hypertension                 0.671821    1.957800\n",
       "5     heart_disease                 0.644560    1.905148\n",
       "6      ever_married                 0.387247    1.472921\n",
       "7       is_employed                -0.858936    0.423612\n",
       "8          is_Rural                -0.231513    0.793332\n",
       "9        has_smoked                 0.105120    1.110844"
      ]
     },
     "execution_count": 26,
     "metadata": {},
     "output_type": "execute_result"
    }
   ],
   "source": [
    "# create a dataframe\n",
    "data = {'feature': column_names,\n",
    "        'correlation coefficient': m.coef_[0], \n",
    "        'odds ratio': odds_ratio_L\n",
    "       }\n",
    " \n",
    "df = pd.DataFrame(data)\n",
    "df"
   ]
  },
  {
   "cell_type": "markdown",
   "id": "19e876df-d683-46f1-a52e-efc48c894117",
   "metadata": {},
   "source": [
    "From our table, `has_high_glucose`, `is_Old`, `hypertension` and `heart_disease` have a strong positive correlation with stroke risk as their odds ratio are all larger than 1.5. The largest odds ratio of the four is `is_Old` (around 4.0): individuals that are old are about 4.0 times more likely to have a stroke than those who are not old. Therefore, this feature is the most positively correlated with stroke risk. For the other features, individuals that have heart disease are around 2.0 times more likely to get a stroke than those who do not have heart disease OR around 2.0 times more likely to get a stroke if one has hypertension than those who do not have hypertension, etc.\n",
    "\n",
    "Additionally, `is_employed` has a strong negative correlation with stroke risk. It has an odds ratio of around 0.40-0.43: individuals that have a stroke are more likely to be not employed than employed. Or individuals that have stroke are 60% less likely to be employed. This also aligns with the correlation coefficient being less than around -0.9."
   ]
  }
 ],
 "metadata": {
  "kernelspec": {
   "display_name": "Python 3 (ipykernel)",
   "language": "python",
   "name": "python3"
  },
  "language_info": {
   "codemirror_mode": {
    "name": "ipython",
    "version": 3
   },
   "file_extension": ".py",
   "mimetype": "text/x-python",
   "name": "python",
   "nbconvert_exporter": "python",
   "pygments_lexer": "ipython3",
   "version": "3.9.12"
  }
 },
 "nbformat": 4,
 "nbformat_minor": 5
}
